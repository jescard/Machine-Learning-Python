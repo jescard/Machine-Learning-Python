{
 "cells": [
  {
   "cell_type": "code",
   "execution_count": 13,
   "metadata": {},
   "outputs": [],
   "source": [
    "df = spark.read.csv(\"file:///Users/user/Desktop/Machine Learning/Machine Learning Template Folder/Part 0 - Python/Section 5 - PySpark/wc2018-players.csv\", inferSchema = True, header = True)"
   ]
  },
  {
   "cell_type": "code",
   "execution_count": 17,
   "metadata": {},
   "outputs": [
    {
     "name": "stdout",
     "output_type": "stream",
     "text": [
      "+---------+---+----+------------------+----------+----------+--------------------+------+------+\n",
      "|     Team|  #|Pos.| FIFA Popular Name|Birth Date|Shirt Name|                Club|Height|Weight|\n",
      "+---------+---+----+------------------+----------+----------+--------------------+------+------+\n",
      "|Argentina|  3|  DF|TAGLIAFICO Nicolas|31.08.1992|TAGLIAFICO|      AFC Ajax (NED)|   169|    65|\n",
      "|Argentina| 22|  MF|    PAVON Cristian|21.01.1996|     PAVÓN|CA Boca Juniors (...|   169|    65|\n",
      "|Argentina| 15|  MF|    LANZINI Manuel|15.02.1993|   LANZINI|West Ham United F...|   167|    66|\n",
      "|Argentina| 18|  DF|    SALVIO Eduardo|13.07.1990|    SALVIO|    SL Benfica (POR)|   167|    69|\n",
      "|Argentina| 10|  FW|      MESSI Lionel|24.06.1987|     MESSI|  FC Barcelona (ESP)|   170|    72|\n",
      "|Argentina|  4|  DF|  ANSALDI Cristian|20.09.1986|   ANSALDI|     Torino FC (ITA)|   181|    73|\n",
      "|Argentina|  5|  MF|      BIGLIA Lucas|30.01.1986|    BIGLIA|      AC Milan (ITA)|   175|    73|\n",
      "|Argentina|  7|  MF|       BANEGA Ever|29.06.1988|    BANEGA|    Sevilla FC (ESP)|   175|    73|\n",
      "|Argentina| 14|  DF| MASCHERANO Javier|08.06.1984|MASCHERANO|Hebei China Fortu...|   174|    73|\n",
      "|Argentina| 21|  FW|      DYBALA Paulo|15.11.1993|    DYBALA|   Juventus FC (ITA)|   177|    73|\n",
      "|Argentina| 19|  FW|     AGUERO Sergio|02.06.1988|    AGÜERO|Manchester City F...|   172|    74|\n",
      "|Argentina|  9|  FW|   HIGUAIN Gonzalo|10.12.1987|   HIGUAÍN|   Juventus FC (ITA)|   184|    75|\n",
      "|Argentina| 11|  MF|    DI MARIA Angel|14.02.1988|  DI MARÍA|Paris Saint-Germa...|   178|    75|\n",
      "|Argentina| 20|  MF|  LO CELSO Giovani|09.04.1996|  LO CELSO|Paris Saint-Germa...|   177|    75|\n",
      "|Argentina| 13|  MF|  MEZA Maximiliano|15.12.1992|      MEZA|CA Independiente ...|   180|    76|\n",
      "|Argentina|  8|  DF|      ACUNA Marcos|28.10.1991|     ACUÑA|   Sporting CP (POR)|   172|    77|\n",
      "|Argentina| 23|  GK|CABALLERO Wilfredo|28.09.1981| CABALLERO|    Chelsea FC (ENG)|   186|    80|\n",
      "|Argentina|  2|  DF|   MERCADO Gabriel|18.03.1987|   MERCADO|    Sevilla FC (ESP)|   181|    81|\n",
      "|Argentina| 17|  DF|  OTAMENDI Nicolas|12.02.1988|  OTAMENDI|Manchester City F...|   181|    81|\n",
      "|Argentina| 16|  DF|       ROJO Marcos|20.03.1990|      ROJO|Manchester United...|   189|    82|\n",
      "+---------+---+----+------------------+----------+----------+--------------------+------+------+\n",
      "only showing top 20 rows\n",
      "\n"
     ]
    }
   ],
   "source": [
    "df.show()"
   ]
  },
  {
   "cell_type": "code",
   "execution_count": 18,
   "metadata": {},
   "outputs": [
    {
     "name": "stdout",
     "output_type": "stream",
     "text": [
      "root\n",
      " |-- Team: string (nullable = true)\n",
      " |-- #: integer (nullable = true)\n",
      " |-- Pos.: string (nullable = true)\n",
      " |-- FIFA Popular Name: string (nullable = true)\n",
      " |-- Birth Date: string (nullable = true)\n",
      " |-- Shirt Name: string (nullable = true)\n",
      " |-- Club: string (nullable = true)\n",
      " |-- Height: integer (nullable = true)\n",
      " |-- Weight: integer (nullable = true)\n",
      "\n"
     ]
    }
   ],
   "source": [
    "df.printSchema()"
   ]
  },
  {
   "cell_type": "code",
   "execution_count": 19,
   "metadata": {},
   "outputs": [
    {
     "data": {
      "text/plain": [
       "['Team',\n",
       " '#',\n",
       " 'Pos.',\n",
       " 'FIFA Popular Name',\n",
       " 'Birth Date',\n",
       " 'Shirt Name',\n",
       " 'Club',\n",
       " 'Height',\n",
       " 'Weight']"
      ]
     },
     "execution_count": 19,
     "metadata": {},
     "output_type": "execute_result"
    }
   ],
   "source": [
    "df.columns"
   ]
  },
  {
   "cell_type": "code",
   "execution_count": 21,
   "metadata": {},
   "outputs": [
    {
     "data": {
      "text/plain": [
       "736"
      ]
     },
     "execution_count": 21,
     "metadata": {},
     "output_type": "execute_result"
    }
   ],
   "source": [
    "df.count()"
   ]
  },
  {
   "cell_type": "code",
   "execution_count": 22,
   "metadata": {
    "scrolled": true
   },
   "outputs": [
    {
     "name": "stdout",
     "output_type": "stream",
     "text": [
      "+-------+-----------------+\n",
      "|summary|           Height|\n",
      "+-------+-----------------+\n",
      "|  count|              736|\n",
      "|   mean|182.4076086956522|\n",
      "| stddev|6.930924233929302|\n",
      "|    min|              165|\n",
      "|    max|              201|\n",
      "+-------+-----------------+\n",
      "\n"
     ]
    }
   ],
   "source": [
    "df.describe('Height').show()"
   ]
  },
  {
   "cell_type": "code",
   "execution_count": 24,
   "metadata": {},
   "outputs": [
    {
     "name": "stdout",
     "output_type": "stream",
     "text": [
      "+---------+--------------------+\n",
      "|     Team|                Club|\n",
      "+---------+--------------------+\n",
      "|Argentina|      AFC Ajax (NED)|\n",
      "|Argentina|CA Boca Juniors (...|\n",
      "|Argentina|West Ham United F...|\n",
      "|Argentina|    SL Benfica (POR)|\n",
      "|Argentina|  FC Barcelona (ESP)|\n",
      "|Argentina|     Torino FC (ITA)|\n",
      "|Argentina|      AC Milan (ITA)|\n",
      "|Argentina|    Sevilla FC (ESP)|\n",
      "|Argentina|Hebei China Fortu...|\n",
      "|Argentina|   Juventus FC (ITA)|\n",
      "|Argentina|Manchester City F...|\n",
      "|Argentina|   Juventus FC (ITA)|\n",
      "|Argentina|Paris Saint-Germa...|\n",
      "|Argentina|Paris Saint-Germa...|\n",
      "|Argentina|CA Independiente ...|\n",
      "|Argentina|   Sporting CP (POR)|\n",
      "|Argentina|    Chelsea FC (ENG)|\n",
      "|Argentina|    Sevilla FC (ESP)|\n",
      "|Argentina|Manchester City F...|\n",
      "|Argentina|Manchester United...|\n",
      "+---------+--------------------+\n",
      "only showing top 20 rows\n",
      "\n"
     ]
    }
   ],
   "source": [
    "df.select('Team', 'Club').show()"
   ]
  },
  {
   "cell_type": "code",
   "execution_count": 31,
   "metadata": {},
   "outputs": [
    {
     "name": "stdout",
     "output_type": "stream",
     "text": [
      "+--------------+---+----+------------------+----------+-----------+--------------------+------+------+\n",
      "|          Team|  #|Pos.| FIFA Popular Name|Birth Date| Shirt Name|                Club|Height|Weight|\n",
      "+--------------+---+----+------------------+----------+-----------+--------------------+------+------+\n",
      "|       Senegal| 23|  GK|      GOMIS Alfred|05.09.1993|      GOMIS|  SPAL Ferrara (ITA)|   196|    80|\n",
      "|       Senegal|  6|  MF|        SANE Salif|25.08.1990|    S. SANE|   Hannover 96 (GER)|   196|    84|\n",
      "|       Nigeria| 23|  GK|     UZOHO Francis|28.10.1998|      UZOHO|Deportivo La Coru...|   196|    91|\n",
      "|       Uruguay| 19|  DF|  COATES Sebastian|07.10.1990|     COATES|   Sporting CP (POR)|   196|    89|\n",
      "|        Russia| 22|  FW|      DZYUBA Artem|22.08.1988|     DZYUBA|FC Arsenal Tula (...|   196|    90|\n",
      "|    Costa Rica| 19|  DF|    WASTON Kendall|01.01.1988|  K. WASTON|Vancouver Whiteca...|   196|    87|\n",
      "|       England| 13|  GK|      BUTLAND Jack|10.03.1993|    BUTLAND| Stoke City FC (ENG)|   196|    96|\n",
      "|Korea Republic|  9|  FW|      KIM Shinwook|14.04.1988|    S W KIM|Jeonbuk Hyundai (...|   197|    97|\n",
      "|        Panama| 22|  GK|    RODRIGUEZ Alex|05.08.1990|  RODRIGUEZ|San Francisco FC ...|   197|    83|\n",
      "|        France| 15|  MF|     NZONZI Steven|15.12.1988|     NZONZI|    Sevilla FC (ESP)|   197|    87|\n",
      "|       Nigeria| 13|  FW|    NWANKWO Simeon|07.05.1992|    NWANKWO|    FC Crotone (ITA)|   197|    89|\n",
      "|       Belgium| 13|  GK|     CASTEELS Koen|25.06.1992|   CASTEELS| VfL Wolfsburg (GER)|   197|    86|\n",
      "|       Iceland| 12|  GK|   SCHRAM Frederik|19.01.1995|     SCHRAM|   Roskilde BK (DEN)|   198|    92|\n",
      "|        Sweden|  1|  GK|       OLSEN Robin|08.01.1990|      OLSEN|  FC Kobenhavn (DEN)|   198|    89|\n",
      "|     Argentina|  6|  DF|    FAZIO Federico|17.03.1987|      FAZIO|       AS Roma (ITA)|   199|    85|\n",
      "|       Belgium|  1|  GK|  COURTOIS Thibaut|11.05.1992|   COURTOIS|    Chelsea FC (ENG)|   199|    91|\n",
      "|       Denmark|  3|  DF|VESTERGAARD Jannik|03.08.1992|VESTERGAARD|VfL Borussia Mönc...|   200|    98|\n",
      "|       Croatia| 12|  GK|     KALINIC Lovre|03.04.1990| L. KALINIĆ|      KAA Gent (BEL)|   201|    96|\n",
      "+--------------+---+----+------------------+----------+-----------+--------------------+------+------+\n",
      "\n"
     ]
    }
   ],
   "source": [
    "df.filter(df.Height>195).sort('Height').show()"
   ]
  },
  {
   "cell_type": "code",
   "execution_count": 32,
   "metadata": {},
   "outputs": [
    {
     "data": {
      "text/plain": [
       "18"
      ]
     },
     "execution_count": 32,
     "metadata": {},
     "output_type": "execute_result"
    }
   ],
   "source": [
    "df.filter(df.Height>195).count()"
   ]
  },
  {
   "cell_type": "code",
   "execution_count": null,
   "metadata": {},
   "outputs": [],
   "source": []
  }
 ],
 "metadata": {
  "kernelspec": {
   "display_name": "Python 3",
   "language": "python",
   "name": "python3"
  },
  "language_info": {
   "codemirror_mode": {
    "name": "ipython",
    "version": 3
   },
   "file_extension": ".py",
   "mimetype": "text/x-python",
   "name": "python",
   "nbconvert_exporter": "python",
   "pygments_lexer": "ipython3",
   "version": "3.7.4"
  }
 },
 "nbformat": 4,
 "nbformat_minor": 2
}
